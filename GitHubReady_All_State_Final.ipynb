{
 "cells": [
  {
   "cell_type": "markdown",
   "metadata": {},
   "source": [
    "# Kaggle Allstate Claims Severity\n",
    "## Introduction : This is a competition hosted by Kaggle and All State to predict the costs and by extension determine the severity of claims. The job is to accurately predict claims severity depending on some of the variables.\n",
    "\n",
    "#### There are 2 datasets i.e. train and test dataset. We build and train the model on the train dataset and run it on the test set to predict the outcome. We use simple linear regression and random forest to understand the dataset. There is no feature creation or feature engineering and the models are used in their base form to understand the power of machine learning algorithms\n",
    "\n",
    "https://www.kaggle.com/c/allstate-claims-severity"
   ]
  },
  {
   "cell_type": "markdown",
   "metadata": {},
   "source": [
    "### Importing the required libraries and the test and train files."
   ]
  },
  {
   "cell_type": "code",
   "execution_count": 32,
   "metadata": {
    "collapsed": true
   },
   "outputs": [],
   "source": [
    "import pandas as pd\n",
    "import numpy as np\n",
    "import sklearn"
   ]
  },
  {
   "cell_type": "code",
   "execution_count": 33,
   "metadata": {
    "collapsed": false
   },
   "outputs": [],
   "source": [
    "df = pd.read_csv('/Users/anuragkaushik/Downloads/train-2.csv')\n",
    "df2 = pd.read_csv('/Users/anuragkaushik/Downloads/test-2.csv')"
   ]
  },
  {
   "cell_type": "markdown",
   "metadata": {},
   "source": [
    "### Number of rows and columns in test and train"
   ]
  },
  {
   "cell_type": "code",
   "execution_count": 34,
   "metadata": {
    "collapsed": false
   },
   "outputs": [
    {
     "name": "stdout",
     "output_type": "stream",
     "text": [
      "Number of rows in train :  188318\n",
      "Number of rows in test :  125546\n"
     ]
    }
   ],
   "source": [
    "print ('Number of rows in train : ',len(df)) \n",
    "print ('Number of rows in test : ',len(df2)) "
   ]
  },
  {
   "cell_type": "code",
   "execution_count": 35,
   "metadata": {
    "collapsed": false
   },
   "outputs": [
    {
     "name": "stdout",
     "output_type": "stream",
     "text": [
      "Number of Columns in train : 132\n",
      "Number of Columns in test : 131\n"
     ]
    }
   ],
   "source": [
    "print('Number of Columns in train :', len(df.columns))\n",
    "print('Number of Columns in test :', len(df2.columns))"
   ]
  },
  {
   "cell_type": "markdown",
   "metadata": {},
   "source": [
    "### Checking the dtypes of the columns for train and test"
   ]
  },
  {
   "cell_type": "code",
   "execution_count": 36,
   "metadata": {
    "collapsed": false
   },
   "outputs": [
    {
     "name": "stdout",
     "output_type": "stream",
     "text": [
      "id          int64\n",
      "cat1       object\n",
      "cat2       object\n",
      "cat3       object\n",
      "cat4       object\n",
      "cat5       object\n",
      "cat6       object\n",
      "cat7       object\n",
      "cat8       object\n",
      "cat9       object\n",
      "cat10      object\n",
      "cat11      object\n",
      "cat12      object\n",
      "cat13      object\n",
      "cat14      object\n",
      "cat15      object\n",
      "cat16      object\n",
      "cat17      object\n",
      "cat18      object\n",
      "cat19      object\n",
      "cat20      object\n",
      "cat21      object\n",
      "cat22      object\n",
      "cat23      object\n",
      "cat24      object\n",
      "cat25      object\n",
      "cat26      object\n",
      "cat27      object\n",
      "cat28      object\n",
      "cat29      object\n",
      "           ...   \n",
      "cat102     object\n",
      "cat103     object\n",
      "cat104     object\n",
      "cat105     object\n",
      "cat106     object\n",
      "cat107     object\n",
      "cat108     object\n",
      "cat109     object\n",
      "cat110     object\n",
      "cat111     object\n",
      "cat112     object\n",
      "cat113     object\n",
      "cat114     object\n",
      "cat115     object\n",
      "cat116     object\n",
      "cont1     float64\n",
      "cont2     float64\n",
      "cont3     float64\n",
      "cont4     float64\n",
      "cont5     float64\n",
      "cont6     float64\n",
      "cont7     float64\n",
      "cont8     float64\n",
      "cont9     float64\n",
      "cont10    float64\n",
      "cont11    float64\n",
      "cont12    float64\n",
      "cont13    float64\n",
      "cont14    float64\n",
      "loss      float64\n",
      "dtype: object\n"
     ]
    }
   ],
   "source": [
    "#for i in df.columns.values:\n",
    "   # if df[i].dtype != 'int64' and df[i].dtype != 'float64':\n",
    "       # print(i, df[i].dtype)\n",
    "print(df.dtypes)"
   ]
  },
  {
   "cell_type": "code",
   "execution_count": 37,
   "metadata": {
    "collapsed": false
   },
   "outputs": [
    {
     "name": "stdout",
     "output_type": "stream",
     "text": [
      "id          int64\n",
      "cat1       object\n",
      "cat2       object\n",
      "cat3       object\n",
      "cat4       object\n",
      "cat5       object\n",
      "cat6       object\n",
      "cat7       object\n",
      "cat8       object\n",
      "cat9       object\n",
      "cat10      object\n",
      "cat11      object\n",
      "cat12      object\n",
      "cat13      object\n",
      "cat14      object\n",
      "cat15      object\n",
      "cat16      object\n",
      "cat17      object\n",
      "cat18      object\n",
      "cat19      object\n",
      "cat20      object\n",
      "cat21      object\n",
      "cat22      object\n",
      "cat23      object\n",
      "cat24      object\n",
      "cat25      object\n",
      "cat26      object\n",
      "cat27      object\n",
      "cat28      object\n",
      "cat29      object\n",
      "           ...   \n",
      "cat101     object\n",
      "cat102     object\n",
      "cat103     object\n",
      "cat104     object\n",
      "cat105     object\n",
      "cat106     object\n",
      "cat107     object\n",
      "cat108     object\n",
      "cat109     object\n",
      "cat110     object\n",
      "cat111     object\n",
      "cat112     object\n",
      "cat113     object\n",
      "cat114     object\n",
      "cat115     object\n",
      "cat116     object\n",
      "cont1     float64\n",
      "cont2     float64\n",
      "cont3     float64\n",
      "cont4     float64\n",
      "cont5     float64\n",
      "cont6     float64\n",
      "cont7     float64\n",
      "cont8     float64\n",
      "cont9     float64\n",
      "cont10    float64\n",
      "cont11    float64\n",
      "cont12    float64\n",
      "cont13    float64\n",
      "cont14    float64\n",
      "dtype: object\n"
     ]
    }
   ],
   "source": [
    "#for i in df2.columns.values:\n",
    "    #if df2[i].dtype != 'int64' and df2[i].dtype != 'float64':\n",
    "        #print(i, df2[i].dtype)\n",
    "print(df2.dtypes)"
   ]
  },
  {
   "cell_type": "markdown",
   "metadata": {},
   "source": [
    "### Converting the categorical variables into integer types for ease of use"
   ]
  },
  {
   "cell_type": "code",
   "execution_count": 38,
   "metadata": {
    "collapsed": false
   },
   "outputs": [],
   "source": [
    "# Using LabelEncoder to convert categorical data to numeric.\n",
    "from sklearn.preprocessing import LabelEncoder\n"
   ]
  },
  {
   "cell_type": "code",
   "execution_count": 39,
   "metadata": {
    "collapsed": false
   },
   "outputs": [],
   "source": [
    "df_le = df.iloc[:,1:-15]\n",
    "df_noe = df.iloc[:,-15:]"
   ]
  },
  {
   "cell_type": "code",
   "execution_count": 40,
   "metadata": {
    "collapsed": true
   },
   "outputs": [],
   "source": [
    "df2_le = df2.iloc[:,1:-15]\n",
    "df2_noe = df2.iloc[:,-15:]\n"
   ]
  },
  {
   "cell_type": "code",
   "execution_count": 41,
   "metadata": {
    "collapsed": false
   },
   "outputs": [],
   "source": [
    "df_le = df_le.apply(LabelEncoder().fit_transform)\n",
    "df2_le = df2_le.apply(LabelEncoder().fit_transform)"
   ]
  },
  {
   "cell_type": "code",
   "execution_count": 42,
   "metadata": {
    "collapsed": false
   },
   "outputs": [],
   "source": [
    "train = pd.concat([df_le, df_noe], axis=1)\n",
    "test = pd.concat([df2_le, df2_noe], axis=1)"
   ]
  },
  {
   "cell_type": "code",
   "execution_count": 43,
   "metadata": {
    "collapsed": false
   },
   "outputs": [
    {
     "data": {
      "text/html": [
       "<div>\n",
       "<table border=\"1\" class=\"dataframe\">\n",
       "  <thead>\n",
       "    <tr style=\"text-align: right;\">\n",
       "      <th></th>\n",
       "      <th>cat1</th>\n",
       "      <th>cat2</th>\n",
       "      <th>cat3</th>\n",
       "      <th>cat4</th>\n",
       "      <th>cat5</th>\n",
       "      <th>cat6</th>\n",
       "      <th>cat7</th>\n",
       "      <th>cat8</th>\n",
       "      <th>cat9</th>\n",
       "      <th>cat10</th>\n",
       "      <th>...</th>\n",
       "      <th>cont6</th>\n",
       "      <th>cont7</th>\n",
       "      <th>cont8</th>\n",
       "      <th>cont9</th>\n",
       "      <th>cont10</th>\n",
       "      <th>cont11</th>\n",
       "      <th>cont12</th>\n",
       "      <th>cont13</th>\n",
       "      <th>cont14</th>\n",
       "      <th>loss</th>\n",
       "    </tr>\n",
       "  </thead>\n",
       "  <tbody>\n",
       "    <tr>\n",
       "      <th>0</th>\n",
       "      <td>0</td>\n",
       "      <td>1</td>\n",
       "      <td>0</td>\n",
       "      <td>1</td>\n",
       "      <td>0</td>\n",
       "      <td>0</td>\n",
       "      <td>0</td>\n",
       "      <td>0</td>\n",
       "      <td>1</td>\n",
       "      <td>0</td>\n",
       "      <td>...</td>\n",
       "      <td>0.718367</td>\n",
       "      <td>0.335060</td>\n",
       "      <td>0.30260</td>\n",
       "      <td>0.67135</td>\n",
       "      <td>0.83510</td>\n",
       "      <td>0.569745</td>\n",
       "      <td>0.594646</td>\n",
       "      <td>0.822493</td>\n",
       "      <td>0.714843</td>\n",
       "      <td>2213.18</td>\n",
       "    </tr>\n",
       "    <tr>\n",
       "      <th>1</th>\n",
       "      <td>0</td>\n",
       "      <td>1</td>\n",
       "      <td>0</td>\n",
       "      <td>0</td>\n",
       "      <td>0</td>\n",
       "      <td>0</td>\n",
       "      <td>0</td>\n",
       "      <td>0</td>\n",
       "      <td>1</td>\n",
       "      <td>1</td>\n",
       "      <td>...</td>\n",
       "      <td>0.438917</td>\n",
       "      <td>0.436585</td>\n",
       "      <td>0.60087</td>\n",
       "      <td>0.35127</td>\n",
       "      <td>0.43919</td>\n",
       "      <td>0.338312</td>\n",
       "      <td>0.366307</td>\n",
       "      <td>0.611431</td>\n",
       "      <td>0.304496</td>\n",
       "      <td>1283.60</td>\n",
       "    </tr>\n",
       "    <tr>\n",
       "      <th>2</th>\n",
       "      <td>0</td>\n",
       "      <td>1</td>\n",
       "      <td>0</td>\n",
       "      <td>0</td>\n",
       "      <td>1</td>\n",
       "      <td>0</td>\n",
       "      <td>0</td>\n",
       "      <td>0</td>\n",
       "      <td>1</td>\n",
       "      <td>1</td>\n",
       "      <td>...</td>\n",
       "      <td>0.289648</td>\n",
       "      <td>0.315545</td>\n",
       "      <td>0.27320</td>\n",
       "      <td>0.26076</td>\n",
       "      <td>0.32446</td>\n",
       "      <td>0.381398</td>\n",
       "      <td>0.373424</td>\n",
       "      <td>0.195709</td>\n",
       "      <td>0.774425</td>\n",
       "      <td>3005.09</td>\n",
       "    </tr>\n",
       "    <tr>\n",
       "      <th>3</th>\n",
       "      <td>1</td>\n",
       "      <td>1</td>\n",
       "      <td>0</td>\n",
       "      <td>1</td>\n",
       "      <td>0</td>\n",
       "      <td>0</td>\n",
       "      <td>0</td>\n",
       "      <td>0</td>\n",
       "      <td>1</td>\n",
       "      <td>0</td>\n",
       "      <td>...</td>\n",
       "      <td>0.440945</td>\n",
       "      <td>0.391128</td>\n",
       "      <td>0.31796</td>\n",
       "      <td>0.32128</td>\n",
       "      <td>0.44467</td>\n",
       "      <td>0.327915</td>\n",
       "      <td>0.321570</td>\n",
       "      <td>0.605077</td>\n",
       "      <td>0.602642</td>\n",
       "      <td>939.85</td>\n",
       "    </tr>\n",
       "    <tr>\n",
       "      <th>4</th>\n",
       "      <td>0</td>\n",
       "      <td>1</td>\n",
       "      <td>0</td>\n",
       "      <td>1</td>\n",
       "      <td>0</td>\n",
       "      <td>0</td>\n",
       "      <td>0</td>\n",
       "      <td>0</td>\n",
       "      <td>1</td>\n",
       "      <td>1</td>\n",
       "      <td>...</td>\n",
       "      <td>0.178193</td>\n",
       "      <td>0.247408</td>\n",
       "      <td>0.24564</td>\n",
       "      <td>0.22089</td>\n",
       "      <td>0.21230</td>\n",
       "      <td>0.204687</td>\n",
       "      <td>0.202213</td>\n",
       "      <td>0.246011</td>\n",
       "      <td>0.432606</td>\n",
       "      <td>2763.85</td>\n",
       "    </tr>\n",
       "  </tbody>\n",
       "</table>\n",
       "<p>5 rows × 131 columns</p>\n",
       "</div>"
      ],
      "text/plain": [
       "   cat1  cat2  cat3  cat4  cat5  cat6  cat7  cat8  cat9  cat10   ...     \\\n",
       "0     0     1     0     1     0     0     0     0     1      0   ...      \n",
       "1     0     1     0     0     0     0     0     0     1      1   ...      \n",
       "2     0     1     0     0     1     0     0     0     1      1   ...      \n",
       "3     1     1     0     1     0     0     0     0     1      0   ...      \n",
       "4     0     1     0     1     0     0     0     0     1      1   ...      \n",
       "\n",
       "      cont6     cont7    cont8    cont9   cont10    cont11    cont12  \\\n",
       "0  0.718367  0.335060  0.30260  0.67135  0.83510  0.569745  0.594646   \n",
       "1  0.438917  0.436585  0.60087  0.35127  0.43919  0.338312  0.366307   \n",
       "2  0.289648  0.315545  0.27320  0.26076  0.32446  0.381398  0.373424   \n",
       "3  0.440945  0.391128  0.31796  0.32128  0.44467  0.327915  0.321570   \n",
       "4  0.178193  0.247408  0.24564  0.22089  0.21230  0.204687  0.202213   \n",
       "\n",
       "     cont13    cont14     loss  \n",
       "0  0.822493  0.714843  2213.18  \n",
       "1  0.611431  0.304496  1283.60  \n",
       "2  0.195709  0.774425  3005.09  \n",
       "3  0.605077  0.602642   939.85  \n",
       "4  0.246011  0.432606  2763.85  \n",
       "\n",
       "[5 rows x 131 columns]"
      ]
     },
     "execution_count": 43,
     "metadata": {},
     "output_type": "execute_result"
    }
   ],
   "source": [
    "train.head()"
   ]
  },
  {
   "cell_type": "code",
   "execution_count": 44,
   "metadata": {
    "collapsed": false
   },
   "outputs": [
    {
     "data": {
      "text/html": [
       "<div>\n",
       "<table border=\"1\" class=\"dataframe\">\n",
       "  <thead>\n",
       "    <tr style=\"text-align: right;\">\n",
       "      <th></th>\n",
       "      <th>cat1</th>\n",
       "      <th>cat2</th>\n",
       "      <th>cat3</th>\n",
       "      <th>cat4</th>\n",
       "      <th>cat5</th>\n",
       "      <th>cat6</th>\n",
       "      <th>cat7</th>\n",
       "      <th>cat8</th>\n",
       "      <th>cat9</th>\n",
       "      <th>cat10</th>\n",
       "      <th>...</th>\n",
       "      <th>cont5</th>\n",
       "      <th>cont6</th>\n",
       "      <th>cont7</th>\n",
       "      <th>cont8</th>\n",
       "      <th>cont9</th>\n",
       "      <th>cont10</th>\n",
       "      <th>cont11</th>\n",
       "      <th>cont12</th>\n",
       "      <th>cont13</th>\n",
       "      <th>cont14</th>\n",
       "    </tr>\n",
       "  </thead>\n",
       "  <tbody>\n",
       "    <tr>\n",
       "      <th>0</th>\n",
       "      <td>0</td>\n",
       "      <td>1</td>\n",
       "      <td>0</td>\n",
       "      <td>0</td>\n",
       "      <td>0</td>\n",
       "      <td>0</td>\n",
       "      <td>0</td>\n",
       "      <td>0</td>\n",
       "      <td>1</td>\n",
       "      <td>0</td>\n",
       "      <td>...</td>\n",
       "      <td>0.281143</td>\n",
       "      <td>0.466591</td>\n",
       "      <td>0.317681</td>\n",
       "      <td>0.61229</td>\n",
       "      <td>0.34365</td>\n",
       "      <td>0.38016</td>\n",
       "      <td>0.377724</td>\n",
       "      <td>0.369858</td>\n",
       "      <td>0.704052</td>\n",
       "      <td>0.392562</td>\n",
       "    </tr>\n",
       "    <tr>\n",
       "      <th>1</th>\n",
       "      <td>0</td>\n",
       "      <td>1</td>\n",
       "      <td>0</td>\n",
       "      <td>1</td>\n",
       "      <td>0</td>\n",
       "      <td>0</td>\n",
       "      <td>0</td>\n",
       "      <td>0</td>\n",
       "      <td>1</td>\n",
       "      <td>0</td>\n",
       "      <td>...</td>\n",
       "      <td>0.836443</td>\n",
       "      <td>0.482425</td>\n",
       "      <td>0.443760</td>\n",
       "      <td>0.71330</td>\n",
       "      <td>0.51890</td>\n",
       "      <td>0.60401</td>\n",
       "      <td>0.689039</td>\n",
       "      <td>0.675759</td>\n",
       "      <td>0.453468</td>\n",
       "      <td>0.208045</td>\n",
       "    </tr>\n",
       "    <tr>\n",
       "      <th>2</th>\n",
       "      <td>0</td>\n",
       "      <td>1</td>\n",
       "      <td>0</td>\n",
       "      <td>1</td>\n",
       "      <td>1</td>\n",
       "      <td>0</td>\n",
       "      <td>1</td>\n",
       "      <td>0</td>\n",
       "      <td>1</td>\n",
       "      <td>1</td>\n",
       "      <td>...</td>\n",
       "      <td>0.718531</td>\n",
       "      <td>0.212308</td>\n",
       "      <td>0.325779</td>\n",
       "      <td>0.29758</td>\n",
       "      <td>0.34365</td>\n",
       "      <td>0.30529</td>\n",
       "      <td>0.245410</td>\n",
       "      <td>0.241676</td>\n",
       "      <td>0.258586</td>\n",
       "      <td>0.297232</td>\n",
       "    </tr>\n",
       "    <tr>\n",
       "      <th>3</th>\n",
       "      <td>0</td>\n",
       "      <td>0</td>\n",
       "      <td>0</td>\n",
       "      <td>0</td>\n",
       "      <td>1</td>\n",
       "      <td>0</td>\n",
       "      <td>0</td>\n",
       "      <td>0</td>\n",
       "      <td>0</td>\n",
       "      <td>0</td>\n",
       "      <td>...</td>\n",
       "      <td>0.397069</td>\n",
       "      <td>0.369930</td>\n",
       "      <td>0.342355</td>\n",
       "      <td>0.40028</td>\n",
       "      <td>0.33237</td>\n",
       "      <td>0.31480</td>\n",
       "      <td>0.348867</td>\n",
       "      <td>0.341872</td>\n",
       "      <td>0.592264</td>\n",
       "      <td>0.555955</td>\n",
       "    </tr>\n",
       "    <tr>\n",
       "      <th>4</th>\n",
       "      <td>1</td>\n",
       "      <td>0</td>\n",
       "      <td>0</td>\n",
       "      <td>0</td>\n",
       "      <td>0</td>\n",
       "      <td>1</td>\n",
       "      <td>0</td>\n",
       "      <td>0</td>\n",
       "      <td>0</td>\n",
       "      <td>0</td>\n",
       "      <td>...</td>\n",
       "      <td>0.302678</td>\n",
       "      <td>0.398862</td>\n",
       "      <td>0.391833</td>\n",
       "      <td>0.23688</td>\n",
       "      <td>0.43731</td>\n",
       "      <td>0.50556</td>\n",
       "      <td>0.359572</td>\n",
       "      <td>0.352251</td>\n",
       "      <td>0.301535</td>\n",
       "      <td>0.825823</td>\n",
       "    </tr>\n",
       "  </tbody>\n",
       "</table>\n",
       "<p>5 rows × 130 columns</p>\n",
       "</div>"
      ],
      "text/plain": [
       "   cat1  cat2  cat3  cat4  cat5  cat6  cat7  cat8  cat9  cat10    ...     \\\n",
       "0     0     1     0     0     0     0     0     0     1      0    ...      \n",
       "1     0     1     0     1     0     0     0     0     1      0    ...      \n",
       "2     0     1     0     1     1     0     1     0     1      1    ...      \n",
       "3     0     0     0     0     1     0     0     0     0      0    ...      \n",
       "4     1     0     0     0     0     1     0     0     0      0    ...      \n",
       "\n",
       "      cont5     cont6     cont7    cont8    cont9   cont10    cont11  \\\n",
       "0  0.281143  0.466591  0.317681  0.61229  0.34365  0.38016  0.377724   \n",
       "1  0.836443  0.482425  0.443760  0.71330  0.51890  0.60401  0.689039   \n",
       "2  0.718531  0.212308  0.325779  0.29758  0.34365  0.30529  0.245410   \n",
       "3  0.397069  0.369930  0.342355  0.40028  0.33237  0.31480  0.348867   \n",
       "4  0.302678  0.398862  0.391833  0.23688  0.43731  0.50556  0.359572   \n",
       "\n",
       "     cont12    cont13    cont14  \n",
       "0  0.369858  0.704052  0.392562  \n",
       "1  0.675759  0.453468  0.208045  \n",
       "2  0.241676  0.258586  0.297232  \n",
       "3  0.341872  0.592264  0.555955  \n",
       "4  0.352251  0.301535  0.825823  \n",
       "\n",
       "[5 rows x 130 columns]"
      ]
     },
     "execution_count": 44,
     "metadata": {},
     "output_type": "execute_result"
    }
   ],
   "source": [
    "test.head()"
   ]
  },
  {
   "cell_type": "markdown",
   "metadata": {},
   "source": [
    "### Checking the difference between the two datasets to check for any additional columns"
   ]
  },
  {
   "cell_type": "code",
   "execution_count": 45,
   "metadata": {
    "collapsed": false
   },
   "outputs": [
    {
     "data": {
      "text/plain": [
       "Index(['loss'], dtype='object')"
      ]
     },
     "execution_count": 45,
     "metadata": {},
     "output_type": "execute_result"
    }
   ],
   "source": [
    "train.columns.difference(test.columns)"
   ]
  },
  {
   "cell_type": "markdown",
   "metadata": {},
   "source": [
    "### Checking for missing values in train and test"
   ]
  },
  {
   "cell_type": "code",
   "execution_count": 46,
   "metadata": {
    "collapsed": false
   },
   "outputs": [
    {
     "name": "stdout",
     "output_type": "stream",
     "text": [
      "id        False\n",
      "cat1      False\n",
      "cat2      False\n",
      "cat3      False\n",
      "cat4      False\n",
      "cat5      False\n",
      "cat6      False\n",
      "cat7      False\n",
      "cat8      False\n",
      "cat9      False\n",
      "cat10     False\n",
      "cat11     False\n",
      "cat12     False\n",
      "cat13     False\n",
      "cat14     False\n",
      "cat15     False\n",
      "cat16     False\n",
      "cat17     False\n",
      "cat18     False\n",
      "cat19     False\n",
      "cat20     False\n",
      "cat21     False\n",
      "cat22     False\n",
      "cat23     False\n",
      "cat24     False\n",
      "cat25     False\n",
      "cat26     False\n",
      "cat27     False\n",
      "cat28     False\n",
      "cat29     False\n",
      "          ...  \n",
      "cat102    False\n",
      "cat103    False\n",
      "cat104    False\n",
      "cat105    False\n",
      "cat106    False\n",
      "cat107    False\n",
      "cat108    False\n",
      "cat109    False\n",
      "cat110    False\n",
      "cat111    False\n",
      "cat112    False\n",
      "cat113    False\n",
      "cat114    False\n",
      "cat115    False\n",
      "cat116    False\n",
      "cont1     False\n",
      "cont2     False\n",
      "cont3     False\n",
      "cont4     False\n",
      "cont5     False\n",
      "cont6     False\n",
      "cont7     False\n",
      "cont8     False\n",
      "cont9     False\n",
      "cont10    False\n",
      "cont11    False\n",
      "cont12    False\n",
      "cont13    False\n",
      "cont14    False\n",
      "loss      False\n",
      "dtype: bool\n"
     ]
    }
   ],
   "source": [
    "#checking for missing values in train\n",
    "print(df.isnull().sum()>0)"
   ]
  },
  {
   "cell_type": "code",
   "execution_count": 47,
   "metadata": {
    "collapsed": false
   },
   "outputs": [],
   "source": [
    "#checking for missing values in test\n",
    "#print(df2.isnull().sum()>0)"
   ]
  },
  {
   "cell_type": "code",
   "execution_count": 48,
   "metadata": {
    "collapsed": false
   },
   "outputs": [
    {
     "data": {
      "text/html": [
       "<div>\n",
       "<table border=\"1\" class=\"dataframe\">\n",
       "  <thead>\n",
       "    <tr style=\"text-align: right;\">\n",
       "      <th></th>\n",
       "      <th>cat1</th>\n",
       "      <th>cat2</th>\n",
       "      <th>cat3</th>\n",
       "      <th>cat4</th>\n",
       "      <th>cat5</th>\n",
       "      <th>cat6</th>\n",
       "      <th>cat7</th>\n",
       "      <th>cat8</th>\n",
       "      <th>cat9</th>\n",
       "      <th>cat10</th>\n",
       "      <th>...</th>\n",
       "      <th>cont6</th>\n",
       "      <th>cont7</th>\n",
       "      <th>cont8</th>\n",
       "      <th>cont9</th>\n",
       "      <th>cont10</th>\n",
       "      <th>cont11</th>\n",
       "      <th>cont12</th>\n",
       "      <th>cont13</th>\n",
       "      <th>cont14</th>\n",
       "      <th>loss</th>\n",
       "    </tr>\n",
       "  </thead>\n",
       "  <tbody>\n",
       "    <tr>\n",
       "      <th>0</th>\n",
       "      <td>0</td>\n",
       "      <td>1</td>\n",
       "      <td>0</td>\n",
       "      <td>1</td>\n",
       "      <td>0</td>\n",
       "      <td>0</td>\n",
       "      <td>0</td>\n",
       "      <td>0</td>\n",
       "      <td>1</td>\n",
       "      <td>0</td>\n",
       "      <td>...</td>\n",
       "      <td>0.718367</td>\n",
       "      <td>0.335060</td>\n",
       "      <td>0.30260</td>\n",
       "      <td>0.67135</td>\n",
       "      <td>0.83510</td>\n",
       "      <td>0.569745</td>\n",
       "      <td>0.594646</td>\n",
       "      <td>0.822493</td>\n",
       "      <td>0.714843</td>\n",
       "      <td>2213.18</td>\n",
       "    </tr>\n",
       "    <tr>\n",
       "      <th>1</th>\n",
       "      <td>0</td>\n",
       "      <td>1</td>\n",
       "      <td>0</td>\n",
       "      <td>0</td>\n",
       "      <td>0</td>\n",
       "      <td>0</td>\n",
       "      <td>0</td>\n",
       "      <td>0</td>\n",
       "      <td>1</td>\n",
       "      <td>1</td>\n",
       "      <td>...</td>\n",
       "      <td>0.438917</td>\n",
       "      <td>0.436585</td>\n",
       "      <td>0.60087</td>\n",
       "      <td>0.35127</td>\n",
       "      <td>0.43919</td>\n",
       "      <td>0.338312</td>\n",
       "      <td>0.366307</td>\n",
       "      <td>0.611431</td>\n",
       "      <td>0.304496</td>\n",
       "      <td>1283.60</td>\n",
       "    </tr>\n",
       "    <tr>\n",
       "      <th>2</th>\n",
       "      <td>0</td>\n",
       "      <td>1</td>\n",
       "      <td>0</td>\n",
       "      <td>0</td>\n",
       "      <td>1</td>\n",
       "      <td>0</td>\n",
       "      <td>0</td>\n",
       "      <td>0</td>\n",
       "      <td>1</td>\n",
       "      <td>1</td>\n",
       "      <td>...</td>\n",
       "      <td>0.289648</td>\n",
       "      <td>0.315545</td>\n",
       "      <td>0.27320</td>\n",
       "      <td>0.26076</td>\n",
       "      <td>0.32446</td>\n",
       "      <td>0.381398</td>\n",
       "      <td>0.373424</td>\n",
       "      <td>0.195709</td>\n",
       "      <td>0.774425</td>\n",
       "      <td>3005.09</td>\n",
       "    </tr>\n",
       "    <tr>\n",
       "      <th>3</th>\n",
       "      <td>1</td>\n",
       "      <td>1</td>\n",
       "      <td>0</td>\n",
       "      <td>1</td>\n",
       "      <td>0</td>\n",
       "      <td>0</td>\n",
       "      <td>0</td>\n",
       "      <td>0</td>\n",
       "      <td>1</td>\n",
       "      <td>0</td>\n",
       "      <td>...</td>\n",
       "      <td>0.440945</td>\n",
       "      <td>0.391128</td>\n",
       "      <td>0.31796</td>\n",
       "      <td>0.32128</td>\n",
       "      <td>0.44467</td>\n",
       "      <td>0.327915</td>\n",
       "      <td>0.321570</td>\n",
       "      <td>0.605077</td>\n",
       "      <td>0.602642</td>\n",
       "      <td>939.85</td>\n",
       "    </tr>\n",
       "    <tr>\n",
       "      <th>4</th>\n",
       "      <td>0</td>\n",
       "      <td>1</td>\n",
       "      <td>0</td>\n",
       "      <td>1</td>\n",
       "      <td>0</td>\n",
       "      <td>0</td>\n",
       "      <td>0</td>\n",
       "      <td>0</td>\n",
       "      <td>1</td>\n",
       "      <td>1</td>\n",
       "      <td>...</td>\n",
       "      <td>0.178193</td>\n",
       "      <td>0.247408</td>\n",
       "      <td>0.24564</td>\n",
       "      <td>0.22089</td>\n",
       "      <td>0.21230</td>\n",
       "      <td>0.204687</td>\n",
       "      <td>0.202213</td>\n",
       "      <td>0.246011</td>\n",
       "      <td>0.432606</td>\n",
       "      <td>2763.85</td>\n",
       "    </tr>\n",
       "  </tbody>\n",
       "</table>\n",
       "<p>5 rows × 131 columns</p>\n",
       "</div>"
      ],
      "text/plain": [
       "   cat1  cat2  cat3  cat4  cat5  cat6  cat7  cat8  cat9  cat10   ...     \\\n",
       "0     0     1     0     1     0     0     0     0     1      0   ...      \n",
       "1     0     1     0     0     0     0     0     0     1      1   ...      \n",
       "2     0     1     0     0     1     0     0     0     1      1   ...      \n",
       "3     1     1     0     1     0     0     0     0     1      0   ...      \n",
       "4     0     1     0     1     0     0     0     0     1      1   ...      \n",
       "\n",
       "      cont6     cont7    cont8    cont9   cont10    cont11    cont12  \\\n",
       "0  0.718367  0.335060  0.30260  0.67135  0.83510  0.569745  0.594646   \n",
       "1  0.438917  0.436585  0.60087  0.35127  0.43919  0.338312  0.366307   \n",
       "2  0.289648  0.315545  0.27320  0.26076  0.32446  0.381398  0.373424   \n",
       "3  0.440945  0.391128  0.31796  0.32128  0.44467  0.327915  0.321570   \n",
       "4  0.178193  0.247408  0.24564  0.22089  0.21230  0.204687  0.202213   \n",
       "\n",
       "     cont13    cont14     loss  \n",
       "0  0.822493  0.714843  2213.18  \n",
       "1  0.611431  0.304496  1283.60  \n",
       "2  0.195709  0.774425  3005.09  \n",
       "3  0.605077  0.602642   939.85  \n",
       "4  0.246011  0.432606  2763.85  \n",
       "\n",
       "[5 rows x 131 columns]"
      ]
     },
     "execution_count": 48,
     "metadata": {},
     "output_type": "execute_result"
    }
   ],
   "source": [
    "train.head()"
   ]
  },
  {
   "cell_type": "markdown",
   "metadata": {},
   "source": [
    "### Splitting into features and lables to feed into the machine learning algorithms"
   ]
  },
  {
   "cell_type": "code",
   "execution_count": 49,
   "metadata": {
    "collapsed": false
   },
   "outputs": [],
   "source": [
    "labels = train['loss']\n",
    "features = train.iloc[:,0:-1]"
   ]
  },
  {
   "cell_type": "code",
   "execution_count": 50,
   "metadata": {
    "collapsed": false
   },
   "outputs": [],
   "source": [
    "from sklearn.linear_model import LinearRegression\n",
    "from sklearn.ensemble import RandomForestRegressor"
   ]
  },
  {
   "cell_type": "markdown",
   "metadata": {},
   "source": [
    "### Using Linear Regression and Random Forest Regression"
   ]
  },
  {
   "cell_type": "code",
   "execution_count": 51,
   "metadata": {
    "collapsed": false
   },
   "outputs": [],
   "source": [
    "reg = LinearRegression()\n",
    "reg = reg.fit(features,labels)\n",
    "\n",
    "reg2 = RandomForestRegressor()\n",
    "reg2 = reg2.fit(features,labels)"
   ]
  },
  {
   "cell_type": "code",
   "execution_count": 52,
   "metadata": {
    "collapsed": false
   },
   "outputs": [],
   "source": [
    "train['predict_LR'] = reg.predict(features)\n",
    "train['predict_RF'] = reg2.predict(features)"
   ]
  },
  {
   "cell_type": "code",
   "execution_count": 53,
   "metadata": {
    "collapsed": false
   },
   "outputs": [],
   "source": [
    "from sklearn.metrics import r2_score\n",
    "score = r2_score(labels, train.predict_LR)\n",
    "score2 = r2_score(labels, train.predict_RF)"
   ]
  },
  {
   "cell_type": "markdown",
   "metadata": {},
   "source": [
    "### Checking the accuracy using the R squared value"
   ]
  },
  {
   "cell_type": "code",
   "execution_count": 54,
   "metadata": {
    "collapsed": false
   },
   "outputs": [
    {
     "name": "stdout",
     "output_type": "stream",
     "text": [
      "R squared for Linear Regression is : 0.482775124956\n",
      "R squared for Random Forest is : 0.907581897776\n"
     ]
    }
   ],
   "source": [
    "print ('R squared for Linear Regression is :', score)\n",
    "print ('R squared for Random Forest is :', score2)"
   ]
  },
  {
   "cell_type": "markdown",
   "metadata": {},
   "source": [
    "### Performing the same operations on the test dataset"
   ]
  },
  {
   "cell_type": "code",
   "execution_count": 55,
   "metadata": {
    "collapsed": false
   },
   "outputs": [
    {
     "data": {
      "text/plain": [
       "array(['cat1', 'cat2', 'cat3', 'cat4', 'cat5', 'cat6', 'cat7', 'cat8',\n",
       "       'cat9', 'cat10', 'cat11', 'cat12', 'cat13', 'cat14', 'cat15',\n",
       "       'cat16', 'cat17', 'cat18', 'cat19', 'cat20', 'cat21', 'cat22',\n",
       "       'cat23', 'cat24', 'cat25', 'cat26', 'cat27', 'cat28', 'cat29',\n",
       "       'cat30', 'cat31', 'cat32', 'cat33', 'cat34', 'cat35', 'cat36',\n",
       "       'cat37', 'cat38', 'cat39', 'cat40', 'cat41', 'cat42', 'cat43',\n",
       "       'cat44', 'cat45', 'cat46', 'cat47', 'cat48', 'cat49', 'cat50',\n",
       "       'cat51', 'cat52', 'cat53', 'cat54', 'cat55', 'cat56', 'cat57',\n",
       "       'cat58', 'cat59', 'cat60', 'cat61', 'cat62', 'cat63', 'cat64',\n",
       "       'cat65', 'cat66', 'cat67', 'cat68', 'cat69', 'cat70', 'cat71',\n",
       "       'cat72', 'cat73', 'cat74', 'cat75', 'cat76', 'cat77', 'cat78',\n",
       "       'cat79', 'cat80', 'cat81', 'cat82', 'cat83', 'cat84', 'cat85',\n",
       "       'cat86', 'cat87', 'cat88', 'cat89', 'cat90', 'cat91', 'cat92',\n",
       "       'cat93', 'cat94', 'cat95', 'cat96', 'cat97', 'cat98', 'cat99',\n",
       "       'cat100', 'cat101', 'cat102', 'cat103', 'cat104', 'cat105',\n",
       "       'cat106', 'cat107', 'cat108', 'cat109', 'cat110', 'cat111',\n",
       "       'cat112', 'cat113', 'cat114', 'cat115', 'cat116', 'cont1', 'cont2',\n",
       "       'cont3', 'cont4', 'cont5', 'cont6', 'cont7', 'cont8', 'cont9',\n",
       "       'cont10', 'cont11', 'cont12', 'cont13', 'cont14'], dtype=object)"
      ]
     },
     "execution_count": 55,
     "metadata": {},
     "output_type": "execute_result"
    }
   ],
   "source": [
    "test.columns.values"
   ]
  },
  {
   "cell_type": "code",
   "execution_count": 56,
   "metadata": {
    "collapsed": false
   },
   "outputs": [],
   "source": [
    "le = LabelEncoder()\n",
    "test.cat116 = le.fit_transform(test.cat116.astype('str'))"
   ]
  },
  {
   "cell_type": "markdown",
   "metadata": {
    "collapsed": false
   },
   "source": [
    "### Since Random Forest Regression is far better than Linear, we use the former instead of the latter."
   ]
  },
  {
   "cell_type": "code",
   "execution_count": 57,
   "metadata": {
    "collapsed": false
   },
   "outputs": [],
   "source": [
    "test['predict_RF'] = reg2.predict(test)"
   ]
  },
  {
   "cell_type": "code",
   "execution_count": 58,
   "metadata": {
    "collapsed": false
   },
   "outputs": [],
   "source": [
    "submit = pd.DataFrame({ 'id' : df2['id'], 'loss': test['predict_RF'] })"
   ]
  },
  {
   "cell_type": "code",
   "execution_count": 59,
   "metadata": {
    "collapsed": true
   },
   "outputs": [],
   "source": [
    "submit.to_csv('/Users/anuragkaushik/Downloads/submit_RF.csv', index = False)"
   ]
  },
  {
   "cell_type": "code",
   "execution_count": 60,
   "metadata": {
    "collapsed": false
   },
   "outputs": [
    {
     "data": {
      "image/png": "[encoded data removed]",
      "text/plain": [
       "<IPython.core.display.Image object>"
      ]
     },
     "execution_count": 60,
     "metadata": {},
     "output_type": "execute_result"
    }
   ],
   "source": [
    "from IPython.display import Image\n",
    "Image(filename='/Users/anuragkaushik/Desktop/allstate.png')"
   ]
  },
  {
   "cell_type": "markdown",
   "metadata": {},
   "source": [
    "### Accuracy can be improved significantly using better features and digging deep into the machine learning algorithms.\n",
    "\n",
    "### Thus machine learning algorithms can be used to understand relationships in data"
   ]
  },
  {
   "cell_type": "code",
   "execution_count": null,
   "metadata": {
    "collapsed": true
   },
   "outputs": [],
   "source": []
  }
 ],
 "metadata": {
  "anaconda-cloud": {},
  "kernelspec": {
   "display_name": "Python [Root]",
   "language": "python",
   "name": "Python [Root]"
  },
  "language_info": {
   "codemirror_mode": {
    "name": "ipython",
    "version": 3
   },
   "file_extension": ".py",
   "mimetype": "text/x-python",
   "name": "python",
   "nbconvert_exporter": "python",
   "pygments_lexer": "ipython3",
   "version": "3.5.2"
  }
 },
 "nbformat": 4,
 "nbformat_minor": 0
}
